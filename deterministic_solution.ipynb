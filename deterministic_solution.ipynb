{
 "cells": [
  {
   "cell_type": "code",
   "execution_count": 1,
   "metadata": {},
   "outputs": [],
   "source": "import numpy as np, matplotlib.pyplot as plt\nfrom scipy.integrate import odeint\nimport numpy as np\nimport math"
  },
  {
   "cell_type": "markdown",
   "metadata": {},
   "source": "##### Volume constant"
  },
  {
   "cell_type": "code",
   "execution_count": 10,
   "metadata": {},
   "outputs": [],
   "source": "V = 10e-12\nNA = 6.023e23\n# sima had V*NA*100e-9*10e-3\nvna = V*NA*10e-9*10e-3\nivna = 1/vna"
  },
  {
   "cell_type": "markdown",
   "metadata": {},
   "source": "#### Parameters "
  },
  {
   "cell_type": "code",
   "execution_count": 3,
   "metadata": {},
   "outputs": [],
   "source": "#Synthesis and degradation of Clb1 :\n\nkClb1s = 0.002\nkClb1sp = 0.2\nkClb1spp = 0.1\nkClb1d = 0.1\nkClb1dp = 0.2\nkClb1dpp = 0.02\n\n#NOTE : Decreasing Clb1 intrinsic decay rate widens Clb3 duration\n\nkClb3s = 0.002\nkClb3sp = 0.5\nkClb3d = 0.2\nkClb3Cdc20d = 0.2\n\n#Cdc20\n\nkCdc20s = 0.2\nkCdc20d = 0.1\nkCdc20Clb1p = 0.1\nkCdc20Clb3p = 0.1\nkCdc20a = 0.1\nJCdc20Clb3 = 0.1\nJCdc20clb1 = 0.1\nJCdc20 = 0.1\nkClb1Cdc20d = 0.3\nkClb3Cdc20d = 0.3\n\n#Clb1 phosophorylation of Cdc20 weaker than Clb3\n\n#Synthesis and degradation of Clb4 :\n\nkClb4s = 0.2\nkClb4sp = 0.1\nkClb4d = 0.2\nkClb4dp = 1\nkClb4dpp = 0.02\n\n#Activation and inactivation of SP :\n\nkSPa = 2\nkSPi = 2\nJSP = 0.01\n\n#Synthesis, degradation, activation, and inactivation of Cdc5 :\n\nkCdc5s = 0.004\nkCdc5sp = 0.03\nkCdc5spp = 0.02\nkCdc5d = 0.02\nkCdc5dp = 0.06\nkCdc5dpp = 0.002\nkCdc5a = 0.1\nkCdc5ap = 0.4\nkCdc5app = 0.3\nkCdc5i = 0.1\n\n#Synthesis, degradation, activation, and inacti - vation of Ndd1 :\n\nkNdd1s = 0.03\nkNdd1d = 0.0001\nkNdd1dp = 1\nkNdd1dpp = 0.02\nkNdd1a = 0.1\nkNdd1ap = 0.2\nkNdd1app = 0.04\nkNdd1i = 0.2\nJNdd1 = 0.04\n\n#Degradation of Hcm1 :\n\nkHcm1d = 0.02\n\n#Regulation of Ndt80 :\n\nkNdt80s = 0.01\nkNdt80sp = 2\nkNdt80d = 0.3\nJNdt80p = 0.2\nalpha = 1\nbeta = 0.1\nki = 0.01\n\n#degradation of Ndt80 by Ama1 :\n\nkNdt80dp = 0.6\n\n#Regulation of Sum1 :\n\nkSum1i = 0.025\nkSum1a = 0.000001\nkSum1ip = 0.1\nkSum1ipp = 1\nkSum1ap = 0.01\nkSum1ippp = 0.25\nkSum1app = 1\n\n#Regulation of Ama1 :\n\nkAma1a = 0.1\nkAma1i = 0.0\nkAma1ip = 0.1\nJAma1 = 0.1\nkAIas = 10\nkAIds = 1\nkAma1clb3p = 0.1\n\n#Faster rate of Ama1 phosphorylation by Clb1\n#Synthesis and degradation of the additional Ama1 - inhibitor (AI) :\n\nkAIs = 0.1\nkAId = 0.15\n\n#Activation and inactivation of the RC :\n\nkRCa = 1\nkRCi = 0.1\nkRCip = 2\nJRC = 0.01\n\n#Repair of DSBs :\n\nkDSBi = 0.02\nkdmRNA = 0.1\nkRim4mRNA = 100\nkAma1dp = 0.01\nkAma1exp = 0.08\nkAma1s = 0.01"
  },
  {
   "cell_type": "markdown",
   "metadata": {},
   "source": "#### ODE System"
  },
  {
   "cell_type": "code",
   "execution_count": 4,
   "metadata": {},
   "outputs": [],
   "source": "# p is the ODE system vector p=[f1, f2, f3, f4, ..., f19]\n# 0  -> clb1\n# 1  -> clb3\n# 2  -> cdc20T\n# 3  -> cdc20\n# 4  -> clb4\n# 5  -> sp\n# 6  -> cdc5t\n# 7  -> cdc5a \n# 8  -> ndd1t\n# 9  -> ndd1a\n# 10 -> hcm1\n# 11 -> ndt80\n# 12 -> sum1iIme2\n# 13 -> sum1iCdk1\n# 14 -> sum1iRC\n# 15 -> ama1p\n# 16 -> rc\n# 17 -> dsb\n# 18 -> ama1t\n\ndef ode_system(p,t):\n    # time functions\n    kDSBi = 0.02\n    Sum1T = 1*vna\n    Dmc1 = 1*vna\n    Sum1I = lambda t: p[12]*p[13]*p[14]/(Sum1T * Sum1T)\n    JNdt80 = lambda t: JNdt80p*(vna+(alpha*(Sum1T-p[12])+beta*(p[12]-Sum1I(t)))/ki)\n    Ama1 = lambda t: p[18]-p[15] \n    Rim4 = lambda t: (1-math.tanh(0.2*(t-240)))/2\n    \n    # system equations\n    clb1_dt = kClb1s*vna + kClb1sp*p[11] - kClb1d*p[0] - kClb1dp*Ama1(t)*p[0]*ivna - kClb1Cdc20d*p[3]*p[0]*ivna\n    \n    clb3_dt = kClb3s*vna - kClb3d*p[1] - kClb3Cdc20d*p[3]*p[1]*ivna + 5*kClb3sp*math.exp(-(t-240)/25)*vna - 5*kClb3sp*math.exp(-(t-240)/25)*Rim4(t)*vna\n    \n    cdc20T_dt = kCdc20s*vna - kCdc20d*p[2]\n    \n    cdc20_dt = (kCdc20Clb1p*p[0]*p[2])/(JCdc20clb1*vna+p[2]-p[3]) + (-kCdc20Clb1p*p[0]*p[3])/(JCdc20clb1*vna+p[2]-p[3]) + (kCdc20Clb3p*p[1]*p[2])/(JCdc20Clb3*vna+p[2]-p[3]) + (-kCdc20Clb3p*p[1]*p[3])/(JCdc20Clb3*vna+p[2]-p[3]) - kCdc20a*p[3]*vna/(JCdc20*vna+p[3]) - kCdc20d*p[3]\n    \n    clb4_dt = kClb4s*vna + kClb4sp*p[11] - kClb4d*p[4] - kClb4dp*Ama1(t)*p[4]*ivna\n    \n    sp_dt = (kSPa*vna*p[0])/(JSP*vna+vna-p[5]) + (kSPa*vna*p[4])/(JSP*vna+vna-p[5]) - (kSPa*p[0]*p[5])/(JSP*vna+vna-p[5]) - (kSPa*p[0]*p[5])/(JSP*vna+vna-p[5]) - kSPi*vna*p[5]/(JSP*vna+p[5])\n    \n    cdc5t_dt = kCdc5s*vna + kCdc5sp*p[11] - kCdc5d*p[6] - kCdc5dp*Ama1(t)*p[6]*ivna\n    \n    cdc5a_dt = kCdc5a*p[6] + kCdc5ap*p[0]*p[6]*ivna + kCdc5app*p[4]*p[6]*ivna - kCdc5a*p[7] - kCdc5ap*p[0]*p[7]*ivna - kCdc5app*p[4]*p[7]*ivna - kCdc5i*p[7] - kCdc5d*p[7] - kCdc5dp*Ama1(t)*p[7]*ivna\n    \n    ndd1t_dt = 0\n    ndd1a_dt = 0\n    \n    hcm1_dt = -kHcm1d*p[10]\n    \n    ndt80_dt = kNdt80s*vna + kNdt80sp*vna*p[11]/(JNdt80(t)+p[11]) - kNdt80d*p[11] - kNdt80dp*Ama1(t)*p[11]*ivna\n    \n    sum1iIme2_dt = kSum1i*Sum1T - kSum1i*p[12] - kSum1a*p[12]\n    \n    sum1iCdk1_dt = kSum1ip*Sum1T + kSum1ipp*Sum1T*p[0]*ivna + kSum1ipp*Sum1T*p[4]*ivna - kSum1ip*p[13] - kSum1ipp*p[13]*p[0]*ivna - kSum1ipp*p[13]*p[4]*ivna - kSum1ap*p[13]\n    \n    sum1iRC_dt = kSum1ippp*Sum1T - kSum1ippp*p[14] - kSum1app*p[16]*p[14]*ivna\n        \n    ama1p_dt = (kAma1i*p[18]*vna)/(JAma1*vna+p[18]-p[15]) + (kAma1ip*p[0]*p[18]*ivna*vna)/(JAma1*vna+p[18]-p[15]) + (-kAma1i*vna*p[15])/(JAma1*vna+p[18]-p[15]) + (-kAma1ip*p[0]*p[15]*ivna*vna)/(JAma1*vna+p[18]-p[15]) - kAma1a*vna*p[15]/(JAma1*vna+p[15]) + (kAma1clb3p*p[1]*p[18]*ivna*vna)/(JAma1*vna+p[18]-p[15]) + (-kAma1clb3p*p[1]*p[15]*ivna*vna)/(JAma1*vna+p[18]-p[15])\n    \n    rc_dt = (kRCa*vna*p[17])/(JRC*vna+vna-p[16]) + (-kRCa*p[17]*p[16])/(JRC*vna+vna-p[16]) + (-kRCi*vna*p[16])/(JRC*vna+p[16]) + (-kRCip*p[7]*p[16]*ivna*vna)/(JRC*vna+p[16])\n    \n    dsb_dt = -kDSBi*p[17]*Dmc1*ivna\n    \n    ama1t_dt = kAma1s*vna - kAma1dp*p[18] + 40*kAma1s*math.exp(-(t-240)/100)*vna - 40*kAma1s*Rim4(t)*math.exp(-(t-240)/100)*vna\n    \n    \n    return clb1_dt,clb3_dt,cdc20T_dt,cdc20_dt,clb4_dt,sp_dt,cdc5t_dt,cdc5a_dt,ndd1t_dt,ndd1a_dt,hcm1_dt,ndt80_dt,sum1iIme2_dt,sum1iCdk1_dt,sum1iRC_dt,ama1p_dt,rc_dt,dsb_dt,ama1t_dt\n\n"
  },
  {
   "cell_type": "code",
   "execution_count": 5,
   "metadata": {},
   "outputs": [
    {
     "data": {
      "text/plain": "'\\n# propoensities\\n\\n# eq1\\np0 = kClb1s\\np1 = kClb1sp*p[11]\\np2 = -kClb1d*p[0]\\np3 = -kClb1dp*Ama1(t)*p[0]\\np4 = -kClb1Cdc20d*p[3]*p[0]\\n\\n# eq2\\np5 = kClb3s\\np6 = -kClb3d*p[1]\\np7 = -kClb3Cdc20d*p[3]*p[1]\\np8 = 5*kClb3sp*math.exp(-(t-240)/25)\\np9 = -5*kClb3sp*math.exp(-(t-240)/25)*Rim4(t)\\n\\n# eq3\\np10 = kCdc20s\\np11 = -kCdc20d*p[2]\\n\\n# eq4\\np12 = (kCdc20Clb1p*p[0]*p[2])/(JCdc20clb1+p[2]-p[3])\\np13 = (-kCdc20Clb1p*p[0]*p[3])/(JCdc20clb1+p[2]-p[3])\\np14 = (kCdc20Clb3p*p[1]*p[2])/(JCdc20Clb3+p[2]-p[3])\\np15 = (-kCdc20Clb3p*p[1]*p[3])/(JCdc20Clb3+p[2]-p[3])\\np16 = -kCdc20a*p[3]/(JCdc20+p[3])\\np17 = -kCdc20d*p[3]\\n\\n# eq5\\np18 = kClb4s\\np19 = kClb4sp*p[11]\\np20 = -kClb4d*p[4]\\np21 = -kClb4dp*Ama1(t)*p[4]\\n\\n# eq6\\np22 = (kSPa*p[0])/(JSP+1-p[5])\\np23 = (kSPa*p[4])/(JSP+1-p[5])\\np24 = -(kSPa*p[0]*p[5])/(JSP+1-p[5])\\np25 = -(kSPa*p[4]*p[5])/(JSP+1-p[5])\\np26 = -kSPi*p[5]/(JSP+p[5])\\n\\n# eq7\\np27 = kCdc5s\\np28 = kCdc5sp*p[11]\\np29 = kCdc5d*p[6]\\np30 = kCdc5dp*Ama1(t)*p[6]\\n\\n# eq8\\np31 = kCdc5a*p[6]\\np32 = kCdc5ap*p[0]*p[6]\\np33 = kCdc5app*p[4]*p[6]\\np34 = -kCdc5a*p[7]\\np35 = -kCdc5ap*p[0]*p[7]\\np36 = -kCdc5app*p[4]*p[7]\\np37 = -kCdc5i*p[7]\\np38 = -kCdc5d*p[7]\\np39 = -kCdc5dp*Ama1(t)*p[7]\\n\\n# eq9/eq10 none\\n\\n# eq11\\np40 = -kHcm1d*p[10]\\n\\n# eq12\\np41 = kNdt80s\\np42 = kNdt80sp*p[11]/(JNdt80(t)+p[11])\\np43 = -kNdt80d*p[11]\\np44 = -kNdt80dp*Ama1(t)*p[11]\\n\\n# eq13\\np45 = kSum1i*Sum1T\\np46 = -kSum1i*p[12]\\np47 = -kSum1a*p[12]\\n\\n# eq14\\np48 = kSum1ip*Sum1T \\np49 = kSum1ipp*Sum1T*p[0]\\np50 = kSum1ipp*Sum1T*p[4]\\np51 = -kSum1ip*p[13]\\np52 = -kSum1ipp*p[13]*p[0]\\np53 = -kSum1ipp*p[13]*p[4]\\np54 = -kSum1ap*p[13]\\n\\n# eq15\\np55 = kSum1ippp*Sum1T\\np56 = -kSum1ippp*p[14]\\np57 = -kSum1app*p[16]*p[14]\\n\\n# eq16\\np58 = (kAma1i*p[18])/(JAma1+p[18]-p[15])\\np59 = (kAma1ip*p[0]*p[18])/(JAma1+p[18]-p[15])\\np60 = (-kAma1i*p[15])/(JAma1+p[18]-p[15])\\np61 = (-kAma1ip*p[0]*p[15])/(JAma1+p[18]-p[15])\\np62 = kAma1a*p[15]/(JAma1+p[15])\\np63 = (kAma1clb3p*p[1]*p[18])/(JAma1+p[18]-p[15])\\np64 = (-kAma1clb3p*p[1]*p[15])/(JAma1+p[18]-p[15])\\n\\n# eq17\\np65 = (kRCa*p[17])/(JRC+1-p[16])\\np66 = (-kRCa*p[17]*p[16])/(JRC+1-p[16])\\np67 = (-kRCi*p[16])/(JRC+p[16])\\np68 = (-kRCip*p[7]*p[16])/(JRC+p[16])\\n\\n# eq18\\np69 = -kDSBi*p[17]*Dmc1\\n\\n# eq19\\np70 = kAma1s\\np71 = -kAma1dp*p[18]\\np72 = 40*kAma1s*math.exp(-(t-240)/100)\\np73 = -40*kAma1s*Rim4(t)*math.exp(-(t-240)/100)\\n'"
     },
     "execution_count": 5,
     "metadata": {},
     "output_type": "execute_result"
    }
   ],
   "source": "'''\n# propoensities\n\n# eq1\np0 = kClb1s\np1 = kClb1sp*p[11]\np2 = -kClb1d*p[0]\np3 = -kClb1dp*Ama1(t)*p[0]\np4 = -kClb1Cdc20d*p[3]*p[0]\n\n# eq2\np5 = kClb3s\np6 = -kClb3d*p[1]\np7 = -kClb3Cdc20d*p[3]*p[1]\np8 = 5*kClb3sp*math.exp(-(t-240)/25)\np9 = -5*kClb3sp*math.exp(-(t-240)/25)*Rim4(t)\n\n# eq3\np10 = kCdc20s\np11 = -kCdc20d*p[2]\n\n# eq4\np12 = (kCdc20Clb1p*p[0]*p[2])/(JCdc20clb1+p[2]-p[3])\np13 = (-kCdc20Clb1p*p[0]*p[3])/(JCdc20clb1+p[2]-p[3])\np14 = (kCdc20Clb3p*p[1]*p[2])/(JCdc20Clb3+p[2]-p[3])\np15 = (-kCdc20Clb3p*p[1]*p[3])/(JCdc20Clb3+p[2]-p[3])\np16 = -kCdc20a*p[3]/(JCdc20+p[3])\np17 = -kCdc20d*p[3]\n\n# eq5\np18 = kClb4s\np19 = kClb4sp*p[11]\np20 = -kClb4d*p[4]\np21 = -kClb4dp*Ama1(t)*p[4]\n\n# eq6\np22 = (kSPa*p[0])/(JSP+1-p[5])\np23 = (kSPa*p[4])/(JSP+1-p[5])\np24 = -(kSPa*p[0]*p[5])/(JSP+1-p[5])\np25 = -(kSPa*p[4]*p[5])/(JSP+1-p[5])\np26 = -kSPi*p[5]/(JSP+p[5])\n\n# eq7\np27 = kCdc5s\np28 = kCdc5sp*p[11]\np29 = kCdc5d*p[6]\np30 = kCdc5dp*Ama1(t)*p[6]\n\n# eq8\np31 = kCdc5a*p[6]\np32 = kCdc5ap*p[0]*p[6]\np33 = kCdc5app*p[4]*p[6]\np34 = -kCdc5a*p[7]\np35 = -kCdc5ap*p[0]*p[7]\np36 = -kCdc5app*p[4]*p[7]\np37 = -kCdc5i*p[7]\np38 = -kCdc5d*p[7]\np39 = -kCdc5dp*Ama1(t)*p[7]\n\n# eq9/eq10 none\n\n# eq11\np40 = -kHcm1d*p[10]\n\n# eq12\np41 = kNdt80s\np42 = kNdt80sp*p[11]/(JNdt80(t)+p[11])\np43 = -kNdt80d*p[11]\np44 = -kNdt80dp*Ama1(t)*p[11]\n\n# eq13\np45 = kSum1i*Sum1T\np46 = -kSum1i*p[12]\np47 = -kSum1a*p[12]\n\n# eq14\np48 = kSum1ip*Sum1T \np49 = kSum1ipp*Sum1T*p[0]\np50 = kSum1ipp*Sum1T*p[4]\np51 = -kSum1ip*p[13]\np52 = -kSum1ipp*p[13]*p[0]\np53 = -kSum1ipp*p[13]*p[4]\np54 = -kSum1ap*p[13]\n\n# eq15\np55 = kSum1ippp*Sum1T\np56 = -kSum1ippp*p[14]\np57 = -kSum1app*p[16]*p[14]\n\n# eq16\np58 = (kAma1i*p[18])/(JAma1+p[18]-p[15])\np59 = (kAma1ip*p[0]*p[18])/(JAma1+p[18]-p[15])\np60 = (-kAma1i*p[15])/(JAma1+p[18]-p[15])\np61 = (-kAma1ip*p[0]*p[15])/(JAma1+p[18]-p[15])\np62 = kAma1a*p[15]/(JAma1+p[15])\np63 = (kAma1clb3p*p[1]*p[18])/(JAma1+p[18]-p[15])\np64 = (-kAma1clb3p*p[1]*p[15])/(JAma1+p[18]-p[15])\n\n# eq17\np65 = (kRCa*p[17])/(JRC+1-p[16])\np66 = (-kRCa*p[17]*p[16])/(JRC+1-p[16])\np67 = (-kRCi*p[16])/(JRC+p[16])\np68 = (-kRCip*p[7]*p[16])/(JRC+p[16])\n\n# eq18\np69 = -kDSBi*p[17]*Dmc1\n\n# eq19\np70 = kAma1s\np71 = -kAma1dp*p[18]\np72 = 40*kAma1s*math.exp(-(t-240)/100)\np73 = -40*kAma1s*Rim4(t)*math.exp(-(t-240)/100)\n'''"
  },
  {
   "cell_type": "markdown",
   "metadata": {},
   "source": "#### Initial conditions for p vector and time range"
  },
  {
   "cell_type": "code",
   "execution_count": 18,
   "metadata": {},
   "outputs": [],
   "source": "p_init = [0,0,0,0,0,0,0,0,0,0,vna,0,0,0,0,0,0,vna,vna]\ntime = np.arange(0,0.05,0.001)"
  },
  {
   "cell_type": "markdown",
   "metadata": {},
   "source": "#### Use scipy odeint to get the determinitstic solution by numerically intergrating the ODE system"
  },
  {
   "cell_type": "code",
   "execution_count": 19,
   "metadata": {},
   "outputs": [],
   "source": "p_t = odeint(func=ode_system, y0=p_init, t=time)"
  },
  {
   "cell_type": "markdown",
   "metadata": {},
   "source": "#### Visualize full deterministic solutions"
  },
  {
   "cell_type": "code",
   "execution_count": 20,
   "metadata": {},
   "outputs": [
    {
     "data": {
      "image/png": "[encoded data removed]",
      "text/plain": "<Figure size 432x288 with 1 Axes>"
     },
     "metadata": {
      "needs_background": "light"
     },
     "output_type": "display_data"
    }
   ],
   "source": "names = ['clb1','clb3','cdc20T','cdc20','clb4','sp','cdc5t','cdc5a','ndd1t','ndd1a','hcm1','ndt80','sum1iIme2','sum1iCdk1','sum1iRC','ama1p','rc','dsb','ama1t']\nfor j in range(0,19):\n    points = []\n    for i in range(0, p_t.shape[0]):\n        points.append(p_t[i][j])\n    plt.plot(time, points)\n    #plt.title('Deterministic solution: ' + names[j])\nplt.show()"
  },
  {
   "cell_type": "markdown",
   "metadata": {},
   "source": "#### Visualize mathematica notebook"
  },
  {
   "cell_type": "code",
   "execution_count": 14,
   "metadata": {},
   "outputs": [
    {
     "data": {
      "image/png": "[encoded data removed]",
      "text/plain": "<Figure size 432x288 with 1 Axes>"
     },
     "metadata": {
      "needs_background": "light"
     },
     "output_type": "display_data"
    }
   ],
   "source": "# 3 1 0 6 4 11 15 18-15 \nfor j in [3,1,0,6,4,11,15]:\n    points = []\n    for i in range(0, p_t.shape[0]):\n        points.append(p_t[i][j])\n    plt.plot(time, points)\n    #plt.title('Deterministic solution: ' + names[j])\n    \n# add 18-15 term\npoints = []\nfor i in range(0, p_t.shape[0]):\n    points.append(p_t[i][18]-p_t[i][15])\nplt.plot(time, points)\nplt.show()"
  },
  {
   "cell_type": "code",
   "execution_count": null,
   "metadata": {},
   "outputs": [],
   "source": ""
  }
 ],
 "metadata": {
  "kernelspec": {
   "display_name": "Python 3",
   "language": "python",
   "name": "python3"
  },
  "language_info": {
   "codemirror_mode": {
    "name": "ipython",
    "version": 3
   },
   "file_extension": ".py",
   "mimetype": "text/x-python",
   "name": "python",
   "nbconvert_exporter": "python",
   "pygments_lexer": "ipython3",
   "version": "3.6.7"
  }
 },
 "nbformat": 4,
 "nbformat_minor": 4
}
