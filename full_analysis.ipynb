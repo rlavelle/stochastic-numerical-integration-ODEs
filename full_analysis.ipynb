{
 "cells": [
  {
   "cell_type": "markdown",
   "metadata": {},
   "source": [
    "# Analysis of data"
   ]
  },
  {
   "cell_type": "code",
   "execution_count": 2,
   "metadata": {},
   "outputs": [],
   "source": [
    "import numpy as np\n",
    "import matplotlib.pyplot as plt\n",
    "import csv\n",
    "from scipy.interpolate import interp1d\n",
    "from scipy.integrate import odeint\n",
    "import math"
   ]
  },
  {
   "cell_type": "markdown",
   "metadata": {},
   "source": [
    "#### Functions to read data in"
   ]
  },
  {
   "cell_type": "code",
   "execution_count": 3,
   "metadata": {},
   "outputs": [],
   "source": [
    "def read_times(file):\n",
    "    times = []\n",
    "    f = open(file,'r')\n",
    "    with f:\n",
    "        reader = csv.reader(f,quotechar='\"')\n",
    "        times = [float(row[0]) for row in reader]\n",
    "    f.close()\n",
    "    return times\n",
    "\n",
    "def read_proteins(file):\n",
    "    proteins = []\n",
    "    f = open(file,'r')\n",
    "    with f:\n",
    "        reader = csv.reader(f,quotechar='\"')\n",
    "        for row in reader:\n",
    "            l = []\n",
    "            for r in row: l.append(float(r))\n",
    "            proteins.append(l)\n",
    "    f.close()\n",
    "    return proteins"
   ]
  },
  {
   "cell_type": "markdown",
   "metadata": {},
   "source": [
    "#### Pull in and interpolate data"
   ]
  },
  {
   "cell_type": "code",
   "execution_count": null,
   "metadata": {},
   "outputs": [],
   "source": [
    "trialcount = 47 # Make sure to use full trial count\n",
    "runtime = 660 # Make sure it's same as stochastic\n",
    "proteincount = 19\n",
    "\n",
    "times = []\n",
    "proteins = []\n",
    "\n",
    "t_data = np.arange(0, runtime, 0.001)\n",
    "p_data = []\n",
    "\n",
    "for i in range(0, trialcount):\n",
    "    times.append(read_times('time-trials/time-'+str(i)+'.csv'))\n",
    "    proteins.append(read_proteins('protein-trials/proteins-trial-'+str(i)+'.csv'))\n",
    "        \n",
    "    # Interpolate Results\n",
    "    p_interp = []\n",
    "    \n",
    "    for j in range(0, proteincount):\n",
    "        p_indiv = []\n",
    "\n",
    "        for k in range(0, len(proteins[i])):\n",
    "            p_indiv.append(proteins[i][k][j])\n",
    "            \n",
    "        p_interp_func = interp1d(times[i], p_indiv, kind = 'nearest', fill_value=\"extrapolate\")\n",
    "        p_new = p_interp_func(t_data)\n",
    "        \n",
    "        p_interp.append(p_new)\n",
    "        \n",
    "    p_data.append(p_interp)    "
   ]
  },
  {
   "cell_type": "markdown",
   "metadata": {},
   "source": [
    "#### Visual Interpolation Check (plots should match up)"
   ]
  },
  {
   "cell_type": "code",
   "execution_count": null,
   "metadata": {},
   "outputs": [],
   "source": [
    "for i in range(0, trialcount):\n",
    "    # plot the stochastic solution\n",
    "    plt.plot(times[i], proteins[i])\n",
    "    plt.title(label = 'Random Walk: Trial '+str(i))\n",
    "    plt.show()\n",
    "    \n",
    "    # plot the interpolated data\n",
    "    for j in range(0, proteincount):\n",
    "        plt.plot(t_data, p_data[i][j])\n",
    "    plt.title(label = 'Interpolated Walk: Trial '+str(i))\n",
    "    plt.show()"
   ]
  },
  {
   "cell_type": "markdown",
   "metadata": {},
   "source": [
    "#### Plot 0th trial"
   ]
  },
  {
   "cell_type": "code",
   "execution_count": 10,
   "metadata": {},
   "outputs": [
    {
     "data": {
      "image/png": "[encoded data removed]",
      "text/plain": [
       "<Figure size 432x288 with 1 Axes>"
      ]
     },
     "metadata": {
      "needs_background": "light"
     },
     "output_type": "display_data"
    }
   ],
   "source": [
    "times = read_times('time-trials/time-0.csv')\n",
    "proteins = read_proteins('protein-trials/proteins-trial-0.csv')\n",
    "plt.plot(times, proteins)\n",
    "plt.show()"
   ]
  },
  {
   "cell_type": "markdown",
   "metadata": {},
   "source": [
    "#### Calculate Mean over trialcount"
   ]
  },
  {
   "cell_type": "code",
   "execution_count": null,
   "metadata": {},
   "outputs": [],
   "source": [
    "mean_array = []\n",
    "for j in range(0, proteincount):\n",
    "    p_avg = []\n",
    "    for i in range(0, trialcount):\n",
    "        p_avg.append(p_data[i][j])\n",
    "    p_avg = np.asarray(p_avg)\n",
    "    p_avg = np.transpose(p_avg)\n",
    "    p_avg = p_avg.mean(axis=1)\n",
    "    mean_array.append(p_avg)"
   ]
  },
  {
   "cell_type": "markdown",
   "metadata": {},
   "source": [
    "#### Graph the mean data"
   ]
  },
  {
   "cell_type": "code",
   "execution_count": null,
   "metadata": {},
   "outputs": [],
   "source": [
    "for j in range(0, proteincount):\n",
    "    plt.plot(t_data, mean_array[j])\n",
    "plt.title(label='Mean Through '+str(trialcount)+' Trials')\n",
    "plt.show()"
   ]
  },
  {
   "cell_type": "markdown",
   "metadata": {},
   "source": [
    "#### Calculate error over trialcount"
   ]
  },
  {
   "cell_type": "code",
   "execution_count": null,
   "metadata": {},
   "outputs": [],
   "source": [
    "p_data = np.asarray(p_data)\n",
    "mean_array = np.asarray(mean_array)\n",
    "\n",
    "y_err = np.sqrt((((p_data-mean_array)**2).sum(axis=0))/(trialcount-1))"
   ]
  },
  {
   "cell_type": "markdown",
   "metadata": {},
   "source": [
    "#### plot data with error bars"
   ]
  },
  {
   "cell_type": "code",
   "execution_count": null,
   "metadata": {},
   "outputs": [],
   "source": [
    "for j in range(0, proteincount):\n",
    "    plt.errorbar(t_data, mean_array[j], yerr = y_err[j])\n",
    "    plt.plot(t_data, mean_array[j])\n",
    "plt.show()"
   ]
  },
  {
   "cell_type": "markdown",
   "metadata": {},
   "source": [
    "#### Deterministic Solution"
   ]
  },
  {
   "cell_type": "code",
   "execution_count": null,
   "metadata": {},
   "outputs": [],
   "source": [
    "## VOLUME CONSTANTS\n",
    "V = 10e-12\n",
    "NA = 6.023e23\n",
    "vna = V*NA*10e-9*10e-3\n",
    "ivna = 1/vna\n",
    "\n",
    "##PARAMETERS\n",
    "#Synthesis and degradation of Clb1 :\n",
    "kClb1s = 0.002\n",
    "kClb1sp = 0.2\n",
    "kClb1spp = 0.1\n",
    "kClb1d = 0.1\n",
    "kClb1dp = 0.2\n",
    "kClb1dpp = 0.02\n",
    "#NOTE : Decreasing Clb1 intrinsic decay rate widens Clb3 duration\n",
    "kClb3s = 0.002\n",
    "kClb3sp = 0.5\n",
    "kClb3d = 0.2\n",
    "kClb3Cdc20d = 0.2\n",
    "#Cdc20\n",
    "kCdc20s = 0.2\n",
    "kCdc20d = 0.1\n",
    "kCdc20Clb1p = 0.1\n",
    "kCdc20Clb3p = 0.1\n",
    "kCdc20a = 0.1\n",
    "JCdc20Clb3 = 0.1\n",
    "JCdc20clb1 = 0.1\n",
    "JCdc20 = 0.1\n",
    "kClb1Cdc20d = 0.3\n",
    "kClb3Cdc20d = 0.3\n",
    "#Clb1 phosophorylation of Cdc20 weaker than Clb3\n",
    "#Synthesis and degradation of Clb4 :\n",
    "kClb4s = 0.2\n",
    "kClb4sp = 0.1\n",
    "kClb4d = 0.2\n",
    "kClb4dp = 1\n",
    "kClb4dpp = 0.02\n",
    "#Activation and inactivation of SP :\n",
    "kSPa = 2\n",
    "kSPi = 2\n",
    "JSP = 0.01\n",
    "#Synthesis, degradation, activation, and inactivation of Cdc5 :\n",
    "kCdc5s = 0.004\n",
    "kCdc5sp = 0.03\n",
    "kCdc5spp = 0.02\n",
    "kCdc5d = 0.02\n",
    "kCdc5dp = 0.06\n",
    "kCdc5dpp = 0.002\n",
    "kCdc5a = 0.1\n",
    "kCdc5ap = 0.4\n",
    "kCdc5app = 0.3\n",
    "kCdc5i = 0.1\n",
    "#Synthesis, degradation, activation, and inacti - vation of Ndd1 :\n",
    "kNdd1s = 0.03\n",
    "kNdd1d = 0.0001\n",
    "kNdd1dp = 1\n",
    "kNdd1dpp = 0.02\n",
    "kNdd1a = 0.1\n",
    "kNdd1ap = 0.2\n",
    "kNdd1app = 0.04\n",
    "kNdd1i = 0.2\n",
    "JNdd1 = 0.04\n",
    "#Degradation of Hcm1 :\n",
    "kHcm1d = 0.02\n",
    "#Regulation of Ndt80 :\n",
    "kNdt80s = 0.01\n",
    "kNdt80sp = 2\n",
    "kNdt80d = 0.3\n",
    "JNdt80p = 0.2\n",
    "alpha = 1\n",
    "beta = 0.1\n",
    "ki = 0.01\n",
    "#degradation of Ndt80 by Ama1 :\n",
    "kNdt80dp = 0.6\n",
    "#Regulation of Sum1 :\n",
    "kSum1i = 0.025\n",
    "kSum1a = 0.000001\n",
    "kSum1ip = 0.1\n",
    "kSum1ipp = 1\n",
    "kSum1ap = 0.01\n",
    "kSum1ippp = 0.25\n",
    "kSum1app = 1\n",
    "#Regulation of Ama1 :\n",
    "kAma1a = 0.1\n",
    "kAma1i = 0.0\n",
    "kAma1ip = 0.1\n",
    "JAma1 = 0.1\n",
    "kAIas = 10\n",
    "kAIds = 1\n",
    "kAma1clb3p = 0.1\n",
    "#Faster rate of Ama1 phosphorylation by Clb1\n",
    "#Synthesis and degradation of the additional Ama1 - inhibitor (AI) :\n",
    "kAIs = 0.1\n",
    "kAId = 0.15\n",
    "#Activation and inactivation of the RC :\n",
    "kRCa = 1\n",
    "kRCi = 0.1\n",
    "kRCip = 2\n",
    "JRC = 0.01\n",
    "#Repair of DSBs :\n",
    "kDSBi = 0.02\n",
    "kdmRNA = 0.1\n",
    "kRim4mRNA = 100\n",
    "kAma1dp = 0.01\n",
    "kAma1exp = 0.08\n",
    "kAma1s = 0.01\n",
    "\n",
    "def ode_system(p,t):\n",
    "    # time functions\n",
    "    kDSBi = 0.02\n",
    "    Sum1T = 1*vna\n",
    "    Dmc1 = 1*vna\n",
    "    Sum1I = lambda t: p[12]*p[13]*p[14]/(Sum1T * Sum1T)\n",
    "    JNdt80 = lambda t: JNdt80p*(vna+(alpha*(Sum1T-p[12])+beta*(p[12]-Sum1I(t)))/ki)\n",
    "    Ama1 = lambda t: p[18]-p[15] \n",
    "    Rim4 = lambda t: (1-math.tanh(0.2*(t-240)))/2\n",
    "    \n",
    "    # system equations\n",
    "    clb1_dt = kClb1s*vna + kClb1sp*p[11] - kClb1d*p[0] - kClb1dp*Ama1(t)*p[0]*ivna - kClb1Cdc20d*p[3]*p[0]*ivna\n",
    "    clb3_dt = kClb3s*vna - kClb3d*p[1] - kClb3Cdc20d*p[3]*p[1]*ivna + 5*kClb3sp*math.exp(-(t-240)/25)*vna - 5*kClb3sp*math.exp(-(t-240)/25)*Rim4(t)*vna\n",
    "    cdc20T_dt = kCdc20s*vna - kCdc20d*p[2]\n",
    "    cdc20_dt = (kCdc20Clb1p*p[0]*p[2])/(JCdc20clb1*vna+p[2]-p[3]) + (-kCdc20Clb1p*p[0]*p[3])/(JCdc20clb1*vna+p[2]-p[3]) + (kCdc20Clb3p*p[1]*p[2])/(JCdc20Clb3*vna+p[2]-p[3]) + (-kCdc20Clb3p*p[1]*p[3])/(JCdc20Clb3*vna+p[2]-p[3]) - kCdc20a*p[3]*vna/(JCdc20*vna+p[3]) - kCdc20d*p[3]\n",
    "    clb4_dt = kClb4s*vna + kClb4sp*p[11] - kClb4d*p[4] - kClb4dp*Ama1(t)*p[4]*ivna\n",
    "    sp_dt = (kSPa*vna*p[0])/(JSP*vna+vna-p[5]) + (kSPa*vna*p[4])/(JSP*vna+vna-p[5]) - (kSPa*p[0]*p[5])/(JSP*vna+vna-p[5]) - (kSPa*p[4]*p[5])/(JSP*vna+vna-p[5]) - kSPi*vna*p[5]/(JSP*vna+p[5])\n",
    "    cdc5t_dt = kCdc5s*vna + kCdc5sp*p[11] - kCdc5d*p[6] - kCdc5dp*Ama1(t)*p[6]*ivna\n",
    "    cdc5a_dt = kCdc5a*p[6] + kCdc5ap*p[0]*p[6]*ivna + kCdc5app*p[4]*p[6]*ivna - kCdc5a*p[7] - kCdc5ap*p[0]*p[7]*ivna - kCdc5app*p[4]*p[7]*ivna - kCdc5i*p[7] - kCdc5d*p[7] - kCdc5dp*Ama1(t)*p[7]*ivna\n",
    "    ndd1t_dt = 0\n",
    "    ndd1a_dt = 0\n",
    "    hcm1_dt = -kHcm1d*p[10]\n",
    "    ndt80_dt = kNdt80s*vna + kNdt80sp*vna*p[11]/(JNdt80(t)+p[11]) - kNdt80d*p[11] - kNdt80dp*Ama1(t)*p[11]*ivna\n",
    "    sum1iIme2_dt = kSum1i*Sum1T - kSum1i*p[12] - kSum1a*p[12]\n",
    "    sum1iCdk1_dt = kSum1ip*Sum1T + kSum1ipp*Sum1T*p[0]*ivna + kSum1ipp*Sum1T*p[4]*ivna - kSum1ip*p[13] - kSum1ipp*p[13]*p[0]*ivna - kSum1ipp*p[13]*p[4]*ivna - kSum1ap*p[13]\n",
    "    sum1iRC_dt = kSum1ippp*Sum1T - kSum1ippp*p[14] - kSum1app*p[16]*p[14]*ivna  \n",
    "    ama1p_dt = (kAma1i*p[18]*vna)/(JAma1*vna+p[18]-p[15]) + (kAma1ip*p[0]*p[18]*ivna*vna)/(JAma1*vna+p[18]-p[15]) + (-kAma1i*vna*p[15])/(JAma1*vna+p[18]-p[15]) + (-kAma1ip*p[0]*p[15]*ivna*vna)/(JAma1*vna+p[18]-p[15]) - kAma1a*vna*p[15]/(JAma1*vna+p[15]) + (kAma1clb3p*p[1]*p[18]*ivna*vna)/(JAma1*vna+p[18]-p[15]) + (-kAma1clb3p*p[1]*p[15]*ivna*vna)/(JAma1*vna+p[18]-p[15])\n",
    "    rc_dt = (kRCa*vna*p[17])/(JRC*vna+vna-p[16]) + (-kRCa*p[17]*p[16])/(JRC*vna+vna-p[16]) + (-kRCi*vna*p[16])/(JRC*vna+p[16]) + (-kRCip*p[7]*p[16]*ivna*vna)/(JRC*vna+p[16])\n",
    "    dsb_dt = -kDSBi*p[17]*Dmc1*ivna\n",
    "    ama1t_dt = kAma1s*vna - kAma1dp*p[18] + 40*kAma1s*math.exp(-(t-240)/100)*vna - 40*kAma1s*Rim4(t)*math.exp(-(t-240)/100)*vna\n",
    "    return clb1_dt,clb3_dt,cdc20T_dt,cdc20_dt,clb4_dt,sp_dt,cdc5t_dt,cdc5a_dt,ndd1t_dt,ndd1a_dt,hcm1_dt,ndt80_dt,sum1iIme2_dt,sum1iCdk1_dt,sum1iRC_dt,ama1p_dt,rc_dt,dsb_dt,ama1t_dt\n",
    "\n",
    "##INITIAL CONDITIONS\n",
    "p_init = [0,0,0,0,0,0,0,0,0,0,vna,0,0,0,0,0,0,vna,vna]\n",
    "\n",
    "##SOLVE ODE\n",
    "p_t = odeint(func=ode_system, y0=p_init, t=t_data)"
   ]
  },
  {
   "cell_type": "markdown",
   "metadata": {},
   "source": [
    "#### Visualize Deterministic vs. Mean"
   ]
  },
  {
   "cell_type": "code",
   "execution_count": null,
   "metadata": {},
   "outputs": [],
   "source": [
    "# deterministic plotting\n",
    "names = ['clb1','clb3','cdc20T','cdc20','clb4','sp','cdc5t','cdc5a','ndd1t','ndd1a','hcm1','ndt80','sum1iIme2','sum1iCdk1','sum1iRC','ama1p','rc','dsb','ama1t']\n",
    "for j in range(0,proteincount):\n",
    "    points = []\n",
    "    for i in range(0, p_t.shape[0]):\n",
    "        points.append(p_t[i][j])\n",
    "    plt.plot(t_data, points)\n",
    "plt.title(label='Deterministic')\n",
    "plt.show()\n",
    "\n",
    "# mean plotting\n",
    "for j in range(0,proteincount):\n",
    "    plt.plot(t_data, mean_array[j])\n",
    "plt.title(label='Mean')\n",
    "plt.show()"
   ]
  },
  {
   "cell_type": "code",
   "execution_count": null,
   "metadata": {},
   "outputs": [],
   "source": []
  }
 ],
 "metadata": {
  "kernelspec": {
   "display_name": "Python 3",
   "language": "python",
   "name": "python3"
  },
  "language_info": {
   "codemirror_mode": {
    "name": "ipython",
    "version": 3
   },
   "file_extension": ".py",
   "mimetype": "text/x-python",
   "name": "python",
   "nbconvert_exporter": "python",
   "pygments_lexer": "ipython3",
   "version": "3.6.7"
  }
 },
 "nbformat": 4,
 "nbformat_minor": 2
}
