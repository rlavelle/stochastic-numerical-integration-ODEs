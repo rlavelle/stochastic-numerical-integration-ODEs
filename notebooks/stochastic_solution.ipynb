{
 "cells": [
  {
   "cell_type": "markdown",
   "metadata": {},
   "source": [
    "# Stochastic solution"
   ]
  },
  {
   "cell_type": "code",
   "execution_count": 1,
   "metadata": {},
   "outputs": [],
   "source": [
    "import numpy as np\n",
    "import matplotlib.pyplot as plt\n",
    "import math\n",
    "import csv"
   ]
  },
  {
   "cell_type": "markdown",
   "metadata": {},
   "source": [
    "##### Volume constant"
   ]
  },
  {
   "cell_type": "code",
   "execution_count": 2,
   "metadata": {},
   "outputs": [],
   "source": [
    "V = 10e-12\n",
    "NA = 6.023e23\n",
    "# sima had V*NA*100e-9*10e-3\n",
    "vna = V*NA*(100*10**(-9))*10**(-3)\n",
    "ivna = 1/vna"
   ]
  },
  {
   "cell_type": "code",
   "execution_count": 3,
   "metadata": {},
   "outputs": [],
   "source": [
    "### p is the ODE system vector p=[f1, f2, f3, f4, ..., f19]\n",
    "#### 0  -> clb1\n",
    "#### 1  -> clb3\n",
    "#### 2  -> cdc20T\n",
    "#### 3  -> cdc20\n",
    "#### 4  -> clb4\n",
    "#### 5  -> sp\n",
    "#### 6  -> cdc5t\n",
    "#### 7  -> cdc5a \n",
    "#### 8  -> ndd1t\n",
    "#### 9  -> ndd1a\n",
    "#### 10 -> hcm1\n",
    "#### 11 -> ndt80\n",
    "#### 12 -> sum1iIme2\n",
    "#### 13 -> sum1iCdk1\n",
    "#### 14 -> sum1iRC\n",
    "#### 15 -> ama1p\n",
    "#### 16 -> rc\n",
    "#### 17 -> dsb\n",
    "#### 18 -> ama1t"
   ]
  },
  {
   "cell_type": "markdown",
   "metadata": {},
   "source": [
    "## Parameters"
   ]
  },
  {
   "cell_type": "code",
   "execution_count": 4,
   "metadata": {},
   "outputs": [],
   "source": [
    "#Synthesis and degradation of Clb1 :\n",
    "kClb1s = 0.002\n",
    "kClb1sp = 0.2\n",
    "kClb1spp = 0.1\n",
    "kClb1d = 0.1\n",
    "kClb1dp = 0.2\n",
    "kClb1dpp = 0.02\n",
    "#NOTE : Decreasing Clb1 intrinsic decay rate widens Clb3 duration\n",
    "kClb3s = 0.002\n",
    "kClb3sp = 0.5\n",
    "kClb3d = 0.2\n",
    "kClb3Cdc20d = 0.2\n",
    "#Cdc20\n",
    "kCdc20s = 0.2\n",
    "kCdc20d = 0.1\n",
    "kCdc20Clb1p = 0.1\n",
    "kCdc20Clb3p = 0.1\n",
    "kCdc20a = 0.1\n",
    "JCdc20Clb3 = 0.1\n",
    "JCdc20clb1 = 0.1\n",
    "JCdc20 = 0.1\n",
    "kClb1Cdc20d = 0.3\n",
    "kClb3Cdc20d = 0.3\n",
    "#Clb1 phosophorylation of Cdc20 weaker than Clb3\n",
    "#Synthesis and degradation of Clb4 :\n",
    "kClb4s = 0.2\n",
    "kClb4sp = 0.1\n",
    "kClb4d = 0.2\n",
    "kClb4dp = 1\n",
    "kClb4dpp = 0.02\n",
    "#Activation and inactivation of SP :\n",
    "kSPa = 2\n",
    "kSPi = 2\n",
    "JSP = 0.01\n",
    "#Synthesis, degradation, activation, and inactivation of Cdc5 :\n",
    "kCdc5s = 0.004\n",
    "kCdc5sp = 0.03\n",
    "kCdc5spp = 0.02\n",
    "kCdc5d = 0.02\n",
    "kCdc5dp = 0.06\n",
    "kCdc5dpp = 0.002\n",
    "kCdc5a = 0.1\n",
    "kCdc5ap = 0.4\n",
    "kCdc5app = 0.3\n",
    "kCdc5i = 0.1\n",
    "#Synthesis, degradation, activation, and inacti - vation of Ndd1 :\n",
    "kNdd1s = 0.03\n",
    "kNdd1d = 0.0001\n",
    "kNdd1dp = 1\n",
    "kNdd1dpp = 0.02\n",
    "kNdd1a = 0.1\n",
    "kNdd1ap = 0.2\n",
    "kNdd1app = 0.04\n",
    "kNdd1i = 0.2\n",
    "JNdd1 = 0.04\n",
    "#Degradation of Hcm1 :\n",
    "kHcm1d = 0.02\n",
    "#Regulation of Ndt80 :\n",
    "kNdt80s = 0.01\n",
    "kNdt80sp = 2\n",
    "kNdt80d = 0.3\n",
    "JNdt80p = 0.2\n",
    "alpha = 1\n",
    "beta = 0.1\n",
    "ki = 0.01\n",
    "#degradation of Ndt80 by Ama1 :\n",
    "kNdt80dp = 0.6\n",
    "#Regulation of Sum1 :\n",
    "kSum1i = 0.025\n",
    "kSum1a = 0.000001\n",
    "kSum1ip = 0.1\n",
    "kSum1ipp = 1\n",
    "kSum1ap = 0.01\n",
    "kSum1ippp = 0.25\n",
    "kSum1app = 1\n",
    "#Regulation of Ama1 :\n",
    "kAma1a = 0.1\n",
    "kAma1i = 0.0\n",
    "kAma1ip = 0.1\n",
    "JAma1 = 0.1\n",
    "kAIas = 10\n",
    "kAIds = 1\n",
    "kAma1clb3p = 0.1\n",
    "#Faster rate of Ama1 phosphorylation by Clb1\n",
    "#Synthesis and degradation of the additional Ama1 - inhibitor (AI) :\n",
    "kAIs = 0.1\n",
    "kAId = 0.15\n",
    "#Activation and inactivation of the RC :\n",
    "kRCa = 1\n",
    "kRCi = 0.1\n",
    "kRCip = 2\n",
    "JRC = 0.01\n",
    "#Repair of DSBs :\n",
    "kDSBi = 0.02\n",
    "kdmRNA = 0.1\n",
    "kRim4mRNA = 100\n",
    "kAma1dp = 0.01\n",
    "kAma1exp = 0.08\n",
    "kAma1s = 0.01"
   ]
  },
  {
   "cell_type": "markdown",
   "metadata": {},
   "source": [
    "#### Gillespie Process"
   ]
  },
  {
   "cell_type": "code",
   "execution_count": 5,
   "metadata": {},
   "outputs": [],
   "source": [
    "def gillespie_process(T,p,trial):     \n",
    "    # current time\n",
    "    t = 0\n",
    "    proteins = []\n",
    "    times = []\n",
    "    \n",
    "    while t<T:\n",
    "        \n",
    "        # time functions\n",
    "        kDSBi = 0.02\n",
    "        Sum1T = 1*vna\n",
    "        Dmc1 = 1*vna\n",
    "        Sum1I = lambda t: p[12]*p[13]*p[14]/(Sum1T * Sum1T)\n",
    "        JNdt80 = lambda t: JNdt80p*(vna+(alpha*(Sum1T-p[12])+beta*(p[12]-Sum1I(t)))/ki)\n",
    "        Ama1 = lambda t: p[18]-p[15] \n",
    "        Rim4 = lambda t: (1-math.tanh(0.2*(t-240)))/2\n",
    "        \n",
    "        propensities = [\n",
    "        # propoensities\n",
    "        # eq1\n",
    "        kClb1s*vna,\n",
    "        kClb1sp*p[11],\n",
    "        -kClb1d*p[0],\n",
    "        -kClb1dp*Ama1(t)*p[0]*ivna,\n",
    "        -kClb1Cdc20d*p[3]*p[0]*ivna,\n",
    "        # eq2\n",
    "        kClb3s*vna,\n",
    "        -kClb3d*p[1],\n",
    "        -kClb3Cdc20d*p[3]*p[1]*ivna,\n",
    "        5*kClb3sp*(vna-Rim4(t)*vna)*math.exp(-(t-240)/25),\n",
    "        # eq3\n",
    "        kCdc20s*vna,\n",
    "        -kCdc20d*p[2],\n",
    "        # eq4 \n",
    "        (kCdc20Clb1p*p[0]*(p[2]-p[3]))/(JCdc20clb1*vna+p[2]-p[3]),\n",
    "        (kCdc20Clb3p*p[1]*(p[2]-p[3]))/(JCdc20Clb3*vna+p[2]-p[3]),\n",
    "        -kCdc20a*p[3]*vna/(JCdc20*vna+p[3]),\n",
    "        -kCdc20d*p[3],\n",
    "        # eq5\n",
    "        kClb4s*vna,\n",
    "        kClb4sp*p[11],\n",
    "        -kClb4d*p[4],\n",
    "        -kClb4dp*Ama1(t)*p[4]*ivna,\n",
    "        # eq6 \n",
    "        (kSPa*(p[0]+p[4])*(vna-p[5]))/(JSP*vna+vna-p[5]),\n",
    "        -kSPi*vna*p[5]/(JSP*vna+p[5]),\n",
    "        # eq7\n",
    "        kCdc5s*vna,\n",
    "        kCdc5sp*p[11],\n",
    "        -kCdc5d*p[6],\n",
    "        -kCdc5dp*Ama1(t)*p[6]*ivna,\n",
    "        # eq8 \n",
    "        kCdc5ap*ivna*p[0]*(p[6]-p[7]),\n",
    "        kCdc5app*ivna*p[4]*(p[6]-p[7]),\n",
    "        -kCdc5i*p[7],\n",
    "        -kCdc5d*p[7],\n",
    "        -kCdc5dp*Ama1(t)*p[7]*ivna,\n",
    "        # eq9/eq10 none\n",
    "        # eq11\n",
    "        -kHcm1d*p[10],\n",
    "        # eq12\n",
    "        kNdt80s*vna,\n",
    "        kNdt80sp*vna*p[11]/(JNdt80(t)+p[11]),\n",
    "        -kNdt80d*p[11],\n",
    "        -kNdt80dp*Ama1(t)*p[11]*ivna,\n",
    "        # eq13 \n",
    "        kSum1i*(Sum1T-p[12]),\n",
    "        -kSum1a*p[12],\n",
    "        # eq14 \n",
    "        kSum1ip*(Sum1T-p[13]),\n",
    "        kSum1ipp*ivna*(p[0]+p[4])*(Sum1T-p[13]),\n",
    "        -kSum1ap*p[13],\n",
    "        # eq15 \n",
    "        kSum1ippp*(Sum1T-p[14]),\n",
    "        -kSum1app*p[16]*p[14]*ivna,\n",
    "        # eq16 \n",
    "        (kAma1i*(p[18]-p[15])*vna)/(JAma1*vna+p[18]-p[15]),\n",
    "        (kAma1ip*ivna*p[0]*(p[18]-p[15])*vna)/(JAma1*vna+p[18]-p[15]),\n",
    "        -kAma1a*vna*p[15]/(JAma1*vna+p[15]),\n",
    "        kAma1clb3p*ivna*p[1]*(p[18]-p[15])*vna/(JAma1*vna+p[18]-p[15]),\n",
    "        # eq17\n",
    "        (kRCa*p[17]*(vna-p[16]))/(JRC*vna+vna-p[16]),\n",
    "        (-kRCi*vna*p[16])/(JRC*vna+p[16]),\n",
    "        (-kRCip*p[7]*p[16]*ivna*vna)/(JRC*vna+p[16]),\n",
    "        # eq18\n",
    "        -kDSBi*p[17]*Dmc1*ivna,\n",
    "        # eq19\n",
    "        kAma1s*vna,\n",
    "        -kAma1dp*p[18],\n",
    "        40*kAma1s*(vna-Rim4(t)*vna)*math.exp(-(t-240)/100)\n",
    "        ]\n",
    "        num_props = 52\n",
    "        \n",
    "        # ductape (im so sorry) we wanted abs(n)/n (my fault)\n",
    "        birthDeathMap = []\n",
    "        for i in range(0,num_props+1):\n",
    "            sign = str(propensities[i])[0]\n",
    "            if sign == '-': birthDeathMap.append(-1)\n",
    "            else: birthDeathMap.append(1)\n",
    "        \n",
    "        # create abs val of propensities list\n",
    "        props = np.array(list(map(abs,propensities)))\n",
    "        tot = props.sum(axis=0)\n",
    "        \n",
    "        # create probability array from cummulative sum\n",
    "        probs = np.cumsum(props)/tot        \n",
    "\n",
    "        # change time\n",
    "        t = t - np.log(np.random.random())/tot\n",
    "        times.append(t)\n",
    "                \n",
    "        # get a random number\n",
    "        r = np.random.random()\n",
    "        \n",
    "        # get index where r falls in probability ranges\n",
    "        index = -1\n",
    "        for i in range(0,num_props+1):\n",
    "            if r <= probs[i]:\n",
    "                index = i\n",
    "                break        \n",
    "        \n",
    "        # update protein count dictionary based on dice roll\n",
    "        for interval in proteinMap.keys():\n",
    "            if index in interval:\n",
    "                if proteinCount[proteinMap[interval]] == 0 and birthDeathMap[index] == -1:\n",
    "                    pass\n",
    "                else:\n",
    "                    proteinCount[proteinMap[interval]] += birthDeathMap[index]\n",
    "        \n",
    "        p = [proteinCount[key] for key in proteinCount.keys()]\n",
    "        proteins.append(p)\n",
    "                \n",
    "    return proteins, times"
   ]
  },
  {
   "cell_type": "markdown",
   "metadata": {},
   "source": [
    "#### Run single trial for testing purposes"
   ]
  },
  {
   "cell_type": "code",
   "execution_count": 6,
   "metadata": {
    "scrolled": true
   },
   "outputs": [
    {
     "name": "stdout",
     "output_type": "stream",
     "text": [
      "CPU times: user 3min 1s, sys: 455 ms, total: 3min 1s\n",
      "Wall time: 3min 1s\n"
     ]
    }
   ],
   "source": [
    "trialcount = 1\n",
    "runtime = 660\n",
    "\n",
    "for i in range(0, trialcount):\n",
    "    names = ['clb1','clb3','cdc20T','cdc20','clb4','sp','cdc5t','cdc5a','ndd1t','ndd1a','hcm1','ndt80','sum1iIme2','sum1iCdk1','sum1iRC','ama1p','rc','dsb','ama1t']\n",
    "    p = [0,0,0,0,0,0,0,0,0,0,vna,0,0,0,0,0,0,vna,vna]\n",
    "\n",
    "    proteinCount = {names[j] : p[j] for j in range(0,len(names))}\n",
    "\n",
    "    proteinMap = {\n",
    "        tuple(np.arange(0,5)): names[0],\n",
    "        tuple(np.arange(5,9)): names[1],\n",
    "        tuple(np.arange(9,11)): names[2],\n",
    "        tuple(np.arange(11,15)): names[3],\n",
    "        tuple(np.arange(15,19)): names[4],\n",
    "        tuple(np.arange(19,21)): names[5],\n",
    "        tuple(np.arange(21,25)): names[6],\n",
    "        tuple(np.arange(25,30)): names[7],\n",
    "        # constant rates of change for protiens 8,9\n",
    "        tuple(np.arange(30,31)): names[10],\n",
    "        tuple(np.arange(31,35)): names[11],\n",
    "        tuple(np.arange(35,37)): names[12],\n",
    "        tuple(np.arange(37,40)): names[13],\n",
    "        tuple(np.arange(40,42)): names[14],\n",
    "        tuple(np.arange(42,46)): names[15],\n",
    "        tuple(np.arange(46,49)): names[16],\n",
    "        tuple(np.arange(49,50)): names[17],\n",
    "        tuple(np.arange(50,53)): names[18]\n",
    "    }\n",
    "    \n",
    "    %time proteins, times = gillespie_process(runtime,p,i)"
   ]
  },
  {
   "cell_type": "code",
   "execution_count": 7,
   "metadata": {},
   "outputs": [],
   "source": [
    "from scipy.interpolate import interp1d\n",
    "t = np.arange(0, runtime, 0.001)\n",
    "p_interp = []\n",
    "\n",
    "for i in range(0, len(proteins[0])):\n",
    "    p_indiv = []\n",
    "\n",
    "    for j in range(0, len(proteins)):\n",
    "        p_indiv.append(proteins[j][i])\n",
    "\n",
    "    func = interp1d(times, p_indiv, kind = 'nearest', fill_value=\"extrapolate\")\n",
    "    p = func(t)\n",
    "\n",
    "    p_interp.append(p)"
   ]
  },
  {
   "cell_type": "code",
   "execution_count": 8,
   "metadata": {},
   "outputs": [
    {
     "name": "stdout",
     "output_type": "stream",
     "text": [
      "CPU times: user 5.27 s, sys: 89.5 ms, total: 5.36 s\n",
      "Wall time: 5.38 s\n"
     ]
    }
   ],
   "source": [
    "f = open('../protein-trials/proteins.csv', 'a+', newline='\\n')\n",
    "with f:\n",
    "    write = csv.writer(f)\n",
    "    %time write.writerows(p_interp)\n",
    "f.close()"
   ]
  },
  {
   "cell_type": "code",
   "execution_count": 9,
   "metadata": {},
   "outputs": [
    {
     "name": "stdout",
     "output_type": "stream",
     "text": [
      "CPU times: user 5.09 s, sys: 577 ms, total: 5.67 s\n",
      "Wall time: 5.68 s\n"
     ]
    }
   ],
   "source": [
    "def read_proteins(file):\n",
    "    proteins = []\n",
    "    f = open(file,'r')\n",
    "    with f:\n",
    "        reader = csv.reader(f,quotechar='\"')\n",
    "        for row in reader:\n",
    "            l = []\n",
    "            for r in row: l.append(float(r))\n",
    "            proteins.append(l)\n",
    "    f.close()\n",
    "    return proteins\n",
    "%time p = read_proteins('../protein-trials/proteins.csv')"
   ]
  },
  {
   "cell_type": "code",
   "execution_count": 10,
   "metadata": {},
   "outputs": [
    {
     "data": {
      "image/png": "[encoded data removed]",
      "text/plain": [
       "<Figure size 432x288 with 1 Axes>"
      ]
     },
     "metadata": {
      "needs_background": "light"
     },
     "output_type": "display_data"
    }
   ],
   "source": [
    "# plot the interpolated data\n",
    "for j in range(0, len(p)):\n",
    "    plt.plot(t, p[j])\n",
    "plt.show()"
   ]
  },
  {
   "cell_type": "code",
   "execution_count": null,
   "metadata": {},
   "outputs": [],
   "source": []
  }
 ],
 "metadata": {
  "kernelspec": {
   "display_name": "Python 3",
   "language": "python",
   "name": "python3"
  },
  "language_info": {
   "codemirror_mode": {
    "name": "ipython",
    "version": 3
   },
   "file_extension": ".py",
   "mimetype": "text/x-python",
   "name": "python",
   "nbconvert_exporter": "python",
   "pygments_lexer": "ipython3",
   "version": "3.6.7"
  }
 },
 "nbformat": 4,
 "nbformat_minor": 4
}
