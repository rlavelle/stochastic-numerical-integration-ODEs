{
 "cells": [
  {
   "cell_type": "code",
   "execution_count": null,
   "metadata": {},
   "outputs": [],
   "source": "import numpy as np\nimport matplotlib.pyplot as plt\nimport math"
  },
  {
   "cell_type": "markdown",
   "metadata": {},
   "source": "##### Volume constant"
  },
  {
   "cell_type": "code",
   "execution_count": null,
   "metadata": {},
   "outputs": [],
   "source": "V = 10e-12\nNA = 6.023e23\n# sima had V*NA*100e-9*10e-3\nvna = V*NA*10e-9*10e-3\nivna = 1/vna"
  },
  {
   "cell_type": "code",
   "execution_count": null,
   "metadata": {},
   "outputs": [],
   "source": "### p is the ODE system vector p=[f1, f2, f3, f4, ..., f19]\n#### 0  -> clb1\n#### 1  -> clb3\n#### 2  -> cdc20T\n#### 3  -> cdc20\n#### 4  -> clb4\n#### 5  -> sp\n#### 6  -> cdc5t\n#### 7  -> cdc5a \n#### 8  -> ndd1t\n#### 9  -> ndd1a\n#### 10 -> hcm1\n#### 11 -> ndt80\n#### 12 -> sum1iIme2\n#### 13 -> sum1iCdk1\n#### 14 -> sum1iRC\n#### 15 -> ama1p\n#### 16 -> rc\n#### 17 -> dsb\n#### 18 -> ama1t"
  },
  {
   "cell_type": "markdown",
   "metadata": {},
   "source": "## Parameters"
  },
  {
   "cell_type": "code",
   "execution_count": null,
   "metadata": {},
   "outputs": [],
   "source": "#Synthesis and degradation of Clb1 :\nkClb1s = 0.002\nkClb1sp = 0.2\nkClb1spp = 0.1\nkClb1d = 0.1\nkClb1dp = 0.2\nkClb1dpp = 0.02\n#NOTE : Decreasing Clb1 intrinsic decay rate widens Clb3 duration\nkClb3s = 0.002\nkClb3sp = 0.5\nkClb3d = 0.2\nkClb3Cdc20d = 0.2\n#Cdc20\nkCdc20s = 0.2\nkCdc20d = 0.1\nkCdc20Clb1p = 0.1\nkCdc20Clb3p = 0.1\nkCdc20a = 0.1\nJCdc20Clb3 = 0.1\nJCdc20clb1 = 0.1\nJCdc20 = 0.1\nkClb1Cdc20d = 0.3\nkClb3Cdc20d = 0.3\n#Clb1 phosophorylation of Cdc20 weaker than Clb3\n#Synthesis and degradation of Clb4 :\nkClb4s = 0.2\nkClb4sp = 0.1\nkClb4d = 0.2\nkClb4dp = 1\nkClb4dpp = 0.02\n#Activation and inactivation of SP :\nkSPa = 2\nkSPi = 2\nJSP = 0.01\n#Synthesis, degradation, activation, and inactivation of Cdc5 :\nkCdc5s = 0.004\nkCdc5sp = 0.03\nkCdc5spp = 0.02\nkCdc5d = 0.02\nkCdc5dp = 0.06\nkCdc5dpp = 0.002\nkCdc5a = 0.1\nkCdc5ap = 0.4\nkCdc5app = 0.3\nkCdc5i = 0.1\n#Synthesis, degradation, activation, and inacti - vation of Ndd1 :\nkNdd1s = 0.03\nkNdd1d = 0.0001\nkNdd1dp = 1\nkNdd1dpp = 0.02\nkNdd1a = 0.1\nkNdd1ap = 0.2\nkNdd1app = 0.04\nkNdd1i = 0.2\nJNdd1 = 0.04\n#Degradation of Hcm1 :\nkHcm1d = 0.02\n#Regulation of Ndt80 :\nkNdt80s = 0.01\nkNdt80sp = 2\nkNdt80d = 0.3\nJNdt80p = 0.2\nalpha = 1\nbeta = 0.1\nki = 0.01\n#degradation of Ndt80 by Ama1 :\nkNdt80dp = 0.6\n#Regulation of Sum1 :\nkSum1i = 0.025\nkSum1a = 0.000001\nkSum1ip = 0.1\nkSum1ipp = 1\nkSum1ap = 0.01\nkSum1ippp = 0.25\nkSum1app = 1\n#Regulation of Ama1 :\nkAma1a = 0.1\nkAma1i = 0.0\nkAma1ip = 0.1\nJAma1 = 0.1\nkAIas = 10\nkAIds = 1\nkAma1clb3p = 0.1\n#Faster rate of Ama1 phosphorylation by Clb1\n#Synthesis and degradation of the additional Ama1 - inhibitor (AI) :\nkAIs = 0.1\nkAId = 0.15\n#Activation and inactivation of the RC :\nkRCa = 1\nkRCi = 0.1\nkRCip = 2\nJRC = 0.01\n#Repair of DSBs :\nkDSBi = 0.02\nkdmRNA = 0.1\nkRim4mRNA = 100\nkAma1dp = 0.01\nkAma1exp = 0.08\nkAma1s = 0.01"
  },
  {
   "cell_type": "markdown",
   "metadata": {},
   "source": "## Initial conditions"
  },
  {
   "cell_type": "code",
   "execution_count": null,
   "metadata": {},
   "outputs": [],
   "source": "names = ['clb1','clb3','cdc20T','cdc20','clb4','sp','cdc5t','cdc5a','ndd1t','ndd1a','hcm1','ndt80','sum1iIme2','sum1iCdk1','sum1iRC','ama1p','rc','dsb','ama1t']\np = [0,0,0,0,0,0,0,0,0,0,vna,0,0,0,0,0,0,vna,vna]\n\nproteinCount = {}\nfor i in range(0,len(names)): proteinCount[names[i]] = p[i]\n\nproteinMap = {\n    tuple(np.arange(0,5)): names[0],\n    tuple(np.arange(5,10)): names[1],\n    tuple(np.arange(10,12)): names[2],\n    tuple(np.arange(12,18)): names[3],\n    tuple(np.arange(18,22)): names[4],\n    tuple(np.arange(22,27)): names[5],\n    tuple(np.arange(27,31)): names[6],\n    tuple(np.arange(31,40)): names[7],\n    # constant rates of change for protiens 8,9\n    tuple(np.arange(40,41)): names[10],\n    tuple(np.arange(41,45)): names[11],\n    tuple(np.arange(45,48)): names[12],\n    tuple(np.arange(48,55)): names[13],\n    tuple(np.arange(55,58)): names[14],\n    tuple(np.arange(58,65)): names[15],\n    tuple(np.arange(65,69)): names[16],\n    tuple(np.arange(69,70)): names[17],\n    tuple(np.arange(70,74)): names[18]\n}   "
  },
  {
   "cell_type": "code",
   "execution_count": null,
   "metadata": {},
   "outputs": [],
   "source": "def gillespie_process(T,p):     \n    # current time\n    t = 0; treport=100\n    \n    # histories\n    times = [t]\n    proteins = [p]\n    \n    while t<T:\n        \n        # time functions\n        kDSBi = 0.02\n        Sum1T = 1*vna\n        Dmc1 = 1*vna\n        Sum1I = lambda t: p[12]*p[13]*p[14]/(Sum1T * Sum1T)\n        JNdt80 = lambda t: JNdt80p*(vna+(alpha*(Sum1T-p[12])+beta*(p[12]-Sum1I(t)))/ki)\n        Ama1 = lambda t: p[18]-p[15] \n        Rim4 = lambda t: (1-math.tanh(0.2*(t-240)))/2\n        \n        # propoensities\n        # eq1\n        p0 = kClb1s*vna\n        p1 = kClb1sp*p[11]\n        p2 = -kClb1d*p[0]\n        p3 = -kClb1dp*Ama1(t)*p[0]*ivna\n        p4 = -kClb1Cdc20d*p[3]*p[0]*ivna\n        # eq2\n        p5 = kClb3s*vna\n        p6 = -kClb3d*p[1]\n        p7 = -kClb3Cdc20d*p[3]*p[1]*ivna\n        p8 = 5*kClb3sp*math.exp(-(t-240)/25)*vna\n        p9 = -5*kClb3sp*math.exp(-(t-240)/25)*Rim4(t)*vna\n        # eq3\n        p10 = kCdc20s*vna\n        p11 = -kCdc20d*p[2]\n        # eq4\n        p12 = (kCdc20Clb1p*p[0]*p[2])/(JCdc20clb1*vna+p[2]-p[3])\n        p13 = (-kCdc20Clb1p*p[0]*p[3])/(JCdc20clb1*vna+p[2]-p[3])\n        p14 = (kCdc20Clb3p*p[1]*p[2])/(JCdc20Clb3*vna+p[2]-p[3])\n        p15 = (-kCdc20Clb3p*p[1]*p[3])/(JCdc20Clb3*vna+p[2]-p[3])\n        p16 = -kCdc20a*p[3]*vna/(JCdc20*vna+p[3])\n        p17 = -kCdc20d*p[3]\n        # eq5\n        p18 = kClb4s*vna\n        p19 = kClb4sp*p[11]\n        p20 = -kClb4d*p[4]\n        p21 = -kClb4dp*Ama1(t)*p[4]*ivna\n        # eq6\n        p22 = (kSPa*vna*p[0])/(JSP*vna+vna-p[5])\n        p23 = (kSPa*vna*p[4])/(JSP*vna+vna-p[5])\n        p24 = -(kSPa*p[0]*p[5])/(JSP*vna+vna-p[5])\n        p25 = -(kSPa*p[0]*p[5])/(JSP*vna+vna-p[5])\n        p26 = -kSPi*vna*p[5]/(JSP*vna+p[5])\n        # eq7\n        p27 = kCdc5s*vna\n        p28 = kCdc5sp*p[11]\n        p29 = kCdc5d*p[6]\n        p30 = kCdc5dp*Ama1(t)*p[6]*ivna\n        # eq8\n        p31 = kCdc5a*p[6]\n        p32 = kCdc5ap*p[0]*p[6]*ivna\n        p33 = kCdc5app*p[4]*p[6]*ivna\n        p34 = -kCdc5a*p[7]\n        p35 = -kCdc5ap*p[0]*p[7]*ivna\n        p36 = -kCdc5app*p[4]*p[7]*ivna\n        p37 = -kCdc5i*p[7]\n        p38 = -kCdc5d*p[7]\n        p39 = -kCdc5dp*Ama1(t)*p[7]*ivna\n        # eq9/eq10 none\n        # eq11\n        p40 = -kHcm1d*p[10]\n        # eq12\n        p41 = kNdt80s*vna\n        p42 = kNdt80sp*vna*p[11]/(JNdt80(t)+p[11])\n        p43 = -kNdt80d*p[11]\n        p44 = -kNdt80dp*Ama1(t)*p[11]*ivna\n        # eq13\n        p45 = kSum1i*Sum1T\n        p46 = -kSum1i*p[12]\n        p47 = -kSum1a*p[12]\n        # eq14\n        p48 = kSum1ip*Sum1T \n        p49 = kSum1ipp*Sum1T*p[0]*ivna\n        p50 = kSum1ipp*Sum1T*p[4]*ivna\n        p51 = -kSum1ip*p[13]\n        p52 = -kSum1ipp*p[13]*p[0]*ivna\n        p53 = -kSum1ipp*p[13]*p[4]*ivna\n        p54 = -kSum1ap*p[13]\n        # eq15\n        p55 = kSum1ippp*Sum1T\n        p56 = -kSum1ippp*p[14]\n        p57 = -kSum1app*p[16]*p[14]*ivna\n        # eq16\n        p58 = (kAma1i*p[18]*vna)/(JAma1*vna+p[18]-p[15])\n        p59 = (kAma1ip*p[0]*p[18]*ivna*vna)/(JAma1*vna+p[18]-p[15])\n        p60 = (-kAma1i*vna*p[15])/(JAma1*vna+p[18]-p[15])\n        p61 = (-kAma1ip*p[0]*p[15]*ivna*vna)/(JAma1*vna+p[18]-p[15])\n        p62 = kAma1a*vna*p[15]/(JAma1*vna+p[15])\n        p63 = (kAma1clb3p*p[1]*p[18]*ivna*vna)/(JAma1*vna+p[18]-p[15])\n        p64 = (-kAma1clb3p*p[1]*p[15]*ivna*vna)/(JAma1*vna+p[18]-p[15])\n        # eq17\n        p65 = (kRCa*vna*p[17])/(JRC*vna+vna-p[16])\n        p66 = (-kRCa*p[17]*p[16])/(JRC*vna+vna-p[16])\n        p67 = (-kRCi*vna*p[16])/(JRC*vna+p[16])\n        p68 = (-kRCip*p[7]*p[16]*ivna*vna)/(JRC*vna+p[16])\n        # eq18\n        p69 = -kDSBi*p[17]*Dmc1*ivna\n        # eq19 **check**\n        p70 = kAma1s*vna\n        p71 = -kAma1dp*p[18]\n        p72 = 40*kAma1s*math.exp(-(t-240)/100)*vna\n        p73 = -40*kAma1s*Rim4(t)*math.exp(-(t-240)/100)*vna\n        \n        # ductape (im so sorry) we wanted abs(n)/n (my fault)\n        birthDeathMap = []\n        for i in range(0,74):\n            sign = str(eval(f'p{i}'))[0]\n            if sign == '-': birthDeathMap.append(-1)\n            else: birthDeathMap.append(1)\n        \n        # sum propensities\n        props = []\n        tot = 0\n        for i in range(0,74):\n            props.append(abs(eval(f'p{i}')))\n            #tot += abs(eval(f'p{i}'))\n        \n        props = np.array(props)\n        \n        # min max normalize prop values\n        # props = (props-min(props))/(max(props)-min(props))\n\n        tot = props.sum(axis=0)\n         \n        partial_sums = []\n        for i in range(0,74):\n            s = 0\n            for j in range(0,i+1):\n                s += abs(eval(f'p{j}'))\n            partial_sums.append(s)\n        \n        probs = np.array(partial_sums)/tot        \n\n        #change time\n        t = t - np.log(np.random.random())/tot\n        #print(t)\n        \n        # get a random number\n        r = np.random.random()\n        \n        # get index where r falls in probability ranges\n        index = -1\n        for i in range(0,74):\n            if r <= probs[i]:\n                index = i\n                break        \n        \n        for interval in proteinMap.keys():\n            if index in interval:\n                if proteinCount[proteinMap[interval]] == 0 and birthDeathMap[index] == -1:\n                    pass\n                else:\n                    proteinCount[proteinMap[interval]] += birthDeathMap[index]\n        \n        # record Gillespie steps\n        times.append(t)\n        p = []\n        for key in proteinCount.keys(): p.append(proteinCount[key])\n        proteins.append(p)\n        \n        plt.close()\n        for j in range(0, 19):\n            points = []\n            for i in range(0, len(proteins)):\n                points.append(proteins[i][j])\n            plt.plot(times, points)\n        plt.show()\n        \n        #print(birthDeathMap)\n    return times, proteins"
  },
  {
   "cell_type": "code",
   "execution_count": null,
   "metadata": {},
   "outputs": [],
   "source": "times, proteins = gillespie_process(660,p)"
  },
  {
   "cell_type": "code",
   "execution_count": null,
   "metadata": {},
   "outputs": [],
   "source": "for j in range(0, 19):\n    points = []\n    for i in range(0, len(proteins)):\n        points.append(proteins[i][j])\n    plt.plot(times, points)\nplt.show()"
  },
  {
   "cell_type": "code",
   "execution_count": null,
   "metadata": {},
   "outputs": [],
   "source": ""
  },
  {
   "cell_type": "code",
   "execution_count": null,
   "metadata": {},
   "outputs": [],
   "source": ""
  }
 ],
 "metadata": {
  "kernelspec": {
   "display_name": "Python 3",
   "language": "python",
   "name": "python3"
  },
  "language_info": {
   "codemirror_mode": {
    "name": "ipython",
    "version": 3
   },
   "file_extension": ".py",
   "mimetype": "text/x-python",
   "name": "python",
   "nbconvert_exporter": "python",
   "pygments_lexer": "ipython3",
   "version": "3.6.7"
  }
 },
 "nbformat": 4,
 "nbformat_minor": 4
}
